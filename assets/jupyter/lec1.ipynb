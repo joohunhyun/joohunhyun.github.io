{
 "cells": [
  {
   "cell_type": "markdown",
   "metadata": {},
   "source": [
    "## TL;DR\n",
    "\n",
    "- Different ways words are represented by computers\n",
    "  - WordNet : manual labeling, traditional method\n",
    "  - WordVectors\n",
    "    - One-Hot Vectors\n",
    "    - Word Vectors"
   ]
  },
  {
   "cell_type": "markdown",
   "metadata": {},
   "source": [
    "## WordNet\n",
    "- Wordnet is a lexical database of semantic relations between words in English first created by CogSys Lab of Princeton University.\n",
    "- It includes N, V, ADJ, ADV but omits PREP, DET, and other function words.\n",
    "- WordVec for other langauges exists too."
   ]
  },
  {
   "cell_type": "markdown",
   "metadata": {},
   "source": [
    "### Wordnet Example"
   ]
  },
  {
   "cell_type": "code",
   "execution_count": null,
   "metadata": {},
   "outputs": [],
   "source": [
    "print(helloworld)"
   ]
  },
  {
   "cell_type": "markdown",
   "metadata": {},
   "source": [
    "### Limitations\n",
    "- Requires human labor\n",
    "  - Impossible to update every word\n",
    "- Missing **nuance**\n",
    "  - \"proficient\" is listed as a synoynm for \"good\"\n",
    "- Misses new words\n",
    "  - badass, nifty, etc"
   ]
  },
  {
   "cell_type": "markdown",
   "metadata": {},
   "source": [
    "### WordNet"
   ]
  }
 ],
 "metadata": {
  "language_info": {
   "name": "python"
  }
 },
 "nbformat": 4,
 "nbformat_minor": 2
}
