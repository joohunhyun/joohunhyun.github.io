{
 "cells": [
  {
   "cell_type": "markdown",
   "metadata": {},
   "source": [
    "## Key Takeaways \n",
    "\n",
    "- Different ways words are represented by computers\n",
    "  - WordNet : manual labeling, traditional method\n",
    "  - WordVectors\n",
    "    - One-Hot Vectors\n",
    "    - Word Vectors"
   ]
  },
  {
   "cell_type": "markdown",
   "metadata": {},
   "source": [
    "## WordNets"
   ]
  }
 ],
 "metadata": {
  "language_info": {
   "name": "python"
  }
 },
 "nbformat": 4,
 "nbformat_minor": 2
}
